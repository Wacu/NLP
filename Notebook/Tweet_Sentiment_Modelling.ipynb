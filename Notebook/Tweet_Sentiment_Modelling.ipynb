{
  "nbformat": 4,
  "nbformat_minor": 0,
  "metadata": {
    "colab": {
      "name": "Tweet Sentiment Modelling",
      "provenance": [],
      "collapsed_sections": []
    },
    "kernelspec": {
      "name": "python3",
      "display_name": "Python 3"
    }
  },
  "cells": [
    {
      "cell_type": "markdown",
      "metadata": {
        "id": "aeqM8fqBdoea",
        "colab_type": "text"
      },
      "source": [
        "##Importing Libraries"
      ]
    },
    {
      "cell_type": "code",
      "metadata": {
        "id": "8zJkWVCGtMfj",
        "colab_type": "code",
        "colab": {}
      },
      "source": [
        "import re\n",
        "import string\n",
        "import numpy as np \n",
        "import random\n",
        "import pandas as pd \n",
        "import matplotlib.pyplot as plt\n",
        "import seaborn as sns\n",
        "%matplotlib inline  \n",
        "from plotly import graph_objs as go\n",
        "import plotly.express as px\n",
        "import plotly.figure_factory as ff\n",
        "from collections import Counter\n",
        "\n",
        "from PIL import Image\n",
        "from wordcloud import WordCloud, STOPWORDS, ImageColorGenerator ##is a data visualization technique used\n",
        "#for representing text data in which the size of each word indicates its frequency\n",
        "\n",
        "\n",
        "import nltk\n",
        "from nltk.corpus import stopwords\n",
        "\n",
        "from tqdm import tqdm ##new progress bars repeatedly\n",
        "import os \n",
        "import nltk ##building Python programs to work with human language data\n",
        "import spacy #for training the NER model tokenize words\n",
        "import random\n",
        "from spacy.util import compounding\n",
        "from spacy.util import minibatch\n",
        "\n",
        "import warnings\n",
        "warnings.filterwarnings(\"ignore\")\n",
        "\n"
      ],
      "execution_count": null,
      "outputs": []
    },
    {
      "cell_type": "markdown",
      "metadata": {
        "id": "IfM5FgyQddWn",
        "colab_type": "text"
      },
      "source": [
        "##Mounting the Drive and loading the data"
      ]
    },
    {
      "cell_type": "code",
      "metadata": {
        "id": "7BfiS2ofeFSQ",
        "colab_type": "code",
        "colab": {}
      },
      "source": [
        "from google.colab import drive\n",
        "drive.mount('/content/gdrive')"
      ],
      "execution_count": null,
      "outputs": []
    },
    {
      "cell_type": "code",
      "metadata": {
        "id": "mlIdb-ojeI10",
        "colab_type": "code",
        "colab": {}
      },
      "source": [
        "df_train = pd.read_csv('gdrive/My Drive/Sentiment Analysis/train.csv')\n",
        "df_test = pd.read_csv('gdrive/My Drive/Sentiment Analysis/test.csv')\n",
        "df_submission = pd.read_csv('gdrive/My Drive/Sentiment Analysis/sample_submission.csv')"
      ],
      "execution_count": null,
      "outputs": []
    },
    {
      "cell_type": "code",
      "metadata": {
        "id": "OXsGhcXE8Oqp",
        "colab_type": "code",
        "colab": {
          "base_uri": "https://localhost:8080/",
          "height": 204
        },
        "outputId": "e58a67dc-7faa-442c-8a7f-a781465140ac"
      },
      "source": [
        "df_train.head(5)"
      ],
      "execution_count": null,
      "outputs": [
        {
          "output_type": "execute_result",
          "data": {
            "text/html": [
              "<div>\n",
              "<style scoped>\n",
              "    .dataframe tbody tr th:only-of-type {\n",
              "        vertical-align: middle;\n",
              "    }\n",
              "\n",
              "    .dataframe tbody tr th {\n",
              "        vertical-align: top;\n",
              "    }\n",
              "\n",
              "    .dataframe thead th {\n",
              "        text-align: right;\n",
              "    }\n",
              "</style>\n",
              "<table border=\"1\" class=\"dataframe\">\n",
              "  <thead>\n",
              "    <tr style=\"text-align: right;\">\n",
              "      <th></th>\n",
              "      <th>textID</th>\n",
              "      <th>text</th>\n",
              "      <th>selected_text</th>\n",
              "      <th>sentiment</th>\n",
              "      <th>Num_words_text</th>\n",
              "    </tr>\n",
              "  </thead>\n",
              "  <tbody>\n",
              "    <tr>\n",
              "      <th>0</th>\n",
              "      <td>cb774db0d1</td>\n",
              "      <td>I`d have responded, if I were going</td>\n",
              "      <td>I`d have responded, if I were going</td>\n",
              "      <td>neutral</td>\n",
              "      <td>7</td>\n",
              "    </tr>\n",
              "    <tr>\n",
              "      <th>1</th>\n",
              "      <td>549e992a42</td>\n",
              "      <td>Sooo SAD I will miss you here in San Diego!!!</td>\n",
              "      <td>Sooo SAD</td>\n",
              "      <td>negative</td>\n",
              "      <td>10</td>\n",
              "    </tr>\n",
              "    <tr>\n",
              "      <th>2</th>\n",
              "      <td>088c60f138</td>\n",
              "      <td>my boss is bullying me...</td>\n",
              "      <td>bullying me</td>\n",
              "      <td>negative</td>\n",
              "      <td>5</td>\n",
              "    </tr>\n",
              "    <tr>\n",
              "      <th>3</th>\n",
              "      <td>9642c003ef</td>\n",
              "      <td>what interview! leave me alone</td>\n",
              "      <td>leave me alone</td>\n",
              "      <td>negative</td>\n",
              "      <td>5</td>\n",
              "    </tr>\n",
              "    <tr>\n",
              "      <th>4</th>\n",
              "      <td>358bd9e861</td>\n",
              "      <td>Sons of ****, why couldn`t they put them on t...</td>\n",
              "      <td>Sons of ****,</td>\n",
              "      <td>negative</td>\n",
              "      <td>14</td>\n",
              "    </tr>\n",
              "  </tbody>\n",
              "</table>\n",
              "</div>"
            ],
            "text/plain": [
              "       textID  ... Num_words_text\n",
              "0  cb774db0d1  ...              7\n",
              "1  549e992a42  ...             10\n",
              "2  088c60f138  ...              5\n",
              "3  9642c003ef  ...              5\n",
              "4  358bd9e861  ...             14\n",
              "\n",
              "[5 rows x 5 columns]"
            ]
          },
          "metadata": {
            "tags": []
          },
          "execution_count": 28
        }
      ]
    },
    {
      "cell_type": "code",
      "metadata": {
        "id": "E43CQBpp8v6v",
        "colab_type": "code",
        "colab": {}
      },
      "source": [
        "df_test.head(5)"
      ],
      "execution_count": null,
      "outputs": []
    },
    {
      "cell_type": "markdown",
      "metadata": {
        "id": "6lRxxh0veOzn",
        "colab_type": "text"
      },
      "source": [
        "##Modelling\n",
        "After going through some discussion forums,this problem can be modelled as following:-\n",
        "\n",
        "Named Entity Recognition\n",
        "\n",
        "Q&A Problem"
      ]
    },
    {
      "cell_type": "markdown",
      "metadata": {
        "id": "RG1dSt4GeZil",
        "colab_type": "text"
      },
      "source": [
        "##1)Modelling the Problem as NER\n",
        "Named Entity Recognition (NER) is a standard NLP problem which involves spotting named entities (people, places, organizations etc.) from a chunk of text, and classifying them into a predefined set of categories. For understanding NER here is very good article : https://towardsdatascience.com/named-entity-recognition-with-nltk-and-spacy-8c4a7d88e7da\n",
        "\n",
        "We will be using spacy for creating our own customised NER model or models (seperate for each Sentiment).\n",
        "\n",
        "What will be different with my solution:\n",
        "\n",
        "I will use text as selected_text for all neutral tweets due to their high jaccard similarity\n",
        "Also I will use text as selected_text for all tweets having number of words less than 3 in text as explained before\n",
        "I will train two different models for Positive and Negtive tweets\n",
        "I will not preprocess the data because the selected text contains raw text"
      ]
    },
    {
      "cell_type": "code",
      "metadata": {
        "id": "fz3BmARC7leq",
        "colab_type": "code",
        "colab": {}
      },
      "source": [
        "#Creating a column with the number of texts\n",
        "df_train['Num_words_text'] = df_train['text'].apply(lambda x:len(str(x).split())) #Number Of words in main Text in train set"
      ],
      "execution_count": null,
      "outputs": []
    },
    {
      "cell_type": "code",
      "metadata": {
        "id": "vw88Nj68POIW",
        "colab_type": "code",
        "colab": {}
      },
      "source": [
        "# dropping the Na's    #Inplace=T ensures that the data used throughout the notebook has no Na's\n",
        "df_train.dropna(inplace=True)"
      ],
      "execution_count": null,
      "outputs": []
    },
    {
      "cell_type": "code",
      "metadata": {
        "id": "La08yxGG7meJ",
        "colab_type": "code",
        "colab": {}
      },
      "source": [
        "#Based on our Jaccard score, we only want to deal mostly with positive and negative tweets\n",
        "df_train = df_train[df_train['Num_words_text']>=3]"
      ],
      "execution_count": null,
      "outputs": []
    },
    {
      "cell_type": "markdown",
      "metadata": {
        "id": "1CrF5VMPdFAE",
        "colab_type": "text"
      },
      "source": [
        "#We ended up using Spacy's already trained models for sentiment analysis since we do not have labels in our data\n",
        "This is because:\n",
        "spaCy’s models are statistical and every “decision” they make – for example, which part-of-speech tag to assign, or whether a word is a named entity – is a prediction."
      ]
    },
    {
      "cell_type": "code",
      "metadata": {
        "id": "t60M0KJ_7vZc",
        "colab_type": "code",
        "colab": {}
      },
      "source": [
        "\n",
        "def save_model(output_dir, nlp, new_model_name):\n",
        "    ''' This Function Saves model to \n",
        "    given output directory'''\n",
        "    \n",
        "    output_dir = f'../Output/{output_dir}'\n",
        "    if output_dir is not None:        \n",
        "        if not os.path.exists(output_dir):\n",
        "            os.makedirs(output_dir)\n",
        "        nlp.meta[\"name\"] = new_model_name\n",
        "        nlp.to_disk(output_dir)\n",
        "        print(\"Saved model to\", output_dir)"
      ],
      "execution_count": null,
      "outputs": []
    },
    {
      "cell_type": "code",
      "metadata": {
        "id": "-MolU0G673cJ",
        "colab_type": "code",
        "colab": {}
      },
      "source": [
        "# pass model = nlp if you want to train on top of existing model \n",
        "\n",
        "def train(train_data, output_dir, n_iter=20, model=None):\n",
        "    \"\"\"Load the model, set up the pipeline and train the entity recognizer.\"\"\"\n",
        "    \"\"\n",
        "    if model is not None:\n",
        "        nlp = spacy.load(output_dir)  # load existing spaCy model from the drive\n",
        "        print(\"Loaded model '%s'\" % model)\n",
        "    else:\n",
        "        nlp = spacy.blank(\"en\")  # create blank Language class(english language)\n",
        "        print(\"Created blank 'en' model\")\n",
        "    \n",
        "    # create the built-in pipeline components and add them to the pipeline\n",
        "    # nlp.create_pipe works for built-ins that are registered with spaCy\n",
        "    if \"ner\" not in nlp.pipe_names:\n",
        "        ner = nlp.create_pipe(\"ner\")\n",
        "        nlp.add_pipe(ner, last=True)\n",
        "    # otherwise, get it so we can add labels\n",
        "    else:\n",
        "        ner = nlp.get_pipe(\"ner\")\n",
        "    \n",
        "    # adding the  labels\n",
        "    for _, annotations in train_data:\n",
        "        for ent in annotations.get(\"entities\"):\n",
        "            ner.add_label(ent[2])\n",
        "\n",
        "    # get names of other pipes to disable them during training apart from ner pipe\n",
        "    other_pipes = [pipe for pipe in nlp.pipe_names if pipe != \"ner\"]\n",
        "    with nlp.disable_pipes(*other_pipes):  # only train NER\n",
        "        # sizes = compounding(1.0, 4.0, 1.001)\n",
        "        # batch up the examples using spaCy's minibatch\n",
        "        if model is None:\n",
        "            nlp.begin_training()\n",
        "        else:\n",
        "            nlp.resume_training()\n",
        "# loss function  calculates the difference between the training example and the expected output. \n",
        "#The greater the difference, the more significant the gradient and the updates to our model.\n",
        "#Reduce the loss function to have the model with the least error\n",
        "#use tqdm to Instantly make our loops show a smart progress meter\n",
        "        for itn in tqdm(range(n_iter)):\n",
        "            random.shuffle(train_data) #randomise the data to prevent the data from memorizing\n",
        "            batches = minibatch(train_data, size=compounding(4.0, 500.0, 1.001))    \n",
        "            losses = {}\n",
        "            for batch in batches:\n",
        "                texts, annotations = zip(*batch)\n",
        "                nlp.update(texts,  # batch of texts\n",
        "                            annotations,  # batch of annotations\n",
        "                            drop=0.5,   # dropout - make it harder to memorise data\n",
        "                            losses=losses, \n",
        "                            )\n",
        "            print(\"Losses\", losses)\n",
        "    save_model(output_dir, nlp, 'st_ner')"
      ],
      "execution_count": null,
      "outputs": []
    },
    {
      "cell_type": "code",
      "metadata": {
        "id": "ejQruBdz79l4",
        "colab_type": "code",
        "colab": {}
      },
      "source": [
        "def get_model_out_path(sentiment):\n",
        "    '''\n",
        "    Returns Model output path per given sentiment\n",
        "    '''\n",
        "    model_out_path = None\n",
        "    if sentiment == 'positive':\n",
        "        model_out_path = 'models/model_pos'\n",
        "    elif sentiment == 'negative':\n",
        "        model_out_path = 'models/model_neg'\n",
        "    return model_out_path"
      ],
      "execution_count": null,
      "outputs": []
    },
    {
      "cell_type": "code",
      "metadata": {
        "id": "1m6gJSsE8BZ7",
        "colab_type": "code",
        "colab": {}
      },
      "source": [
        "def get_training_data(sentiment):\n",
        "    '''\n",
        "    Returns Training data in the format needed to train spacy NER\n",
        "    '''\n",
        "    train_data = []\n",
        "    for index, row in df_train.iterrows():\n",
        "        if row.sentiment == sentiment:\n",
        "            selected_text = row.selected_text\n",
        "            text = row.text\n",
        "            start = text.find(selected_text)\n",
        "            end = start + len(selected_text)\n",
        "            train_data.append((text, {\"entities\": [[start, end, 'selected_text']]}))\n",
        "    return train_data"
      ],
      "execution_count": null,
      "outputs": []
    },
    {
      "cell_type": "markdown",
      "metadata": {
        "id": "jEXUq3o8e4sf",
        "colab_type": "text"
      },
      "source": [
        "##Training Models for Negative and Positive Tweets"
      ]
    },
    {
      "cell_type": "code",
      "metadata": {
        "id": "i0oP2oloS06o",
        "colab_type": "code",
        "colab": {
          "base_uri": "https://localhost:8080/",
          "height": 119
        },
        "outputId": "e170fd04-2bce-4dd1-e4c4-fd3d2f0a9d34"
      },
      "source": [
        "sentiment = 'positive'\n",
        "\n",
        "train_data = get_training_data(sentiment)\n",
        "model_path = get_model_out_path(sentiment)\n",
        "\n",
        "train(train_data, model_path, n_iter=3, model=None)"
      ],
      "execution_count": null,
      "outputs": [
        {
          "output_type": "stream",
          "text": [
            "\r  0%|          | 0/3 [00:00<?, ?it/s]"
          ],
          "name": "stderr"
        },
        {
          "output_type": "stream",
          "text": [
            "Created blank 'en' model\n"
          ],
          "name": "stdout"
        },
        {
          "output_type": "stream",
          "text": [
            "\r 33%|███▎      | 1/3 [00:50<01:40, 50.22s/it]"
          ],
          "name": "stderr"
        },
        {
          "output_type": "stream",
          "text": [
            "Losses {'ner': 33180.392996583454}\n"
          ],
          "name": "stdout"
        },
        {
          "output_type": "stream",
          "text": [
            "\r 67%|██████▋   | 2/3 [01:40<00:50, 50.14s/it]"
          ],
          "name": "stderr"
        },
        {
          "output_type": "stream",
          "text": [
            "Losses {'ner': 30022.98573069785}\n"
          ],
          "name": "stdout"
        },
        {
          "output_type": "stream",
          "text": [
            "100%|██████████| 3/3 [02:30<00:00, 50.20s/it]"
          ],
          "name": "stderr"
        },
        {
          "output_type": "stream",
          "text": [
            "Losses {'ner': 29243.4466882204}\n",
            "Saved model to ../Output/models/model_pos\n"
          ],
          "name": "stdout"
        },
        {
          "output_type": "stream",
          "text": [
            "\n"
          ],
          "name": "stderr"
        }
      ]
    },
    {
      "cell_type": "markdown",
      "metadata": {
        "id": "Eqy947Y9aA52",
        "colab_type": "text"
      },
      "source": [
        "The output above shows the three iterations, the model is good because the loss function/error reduces per iteration"
      ]
    },
    {
      "cell_type": "code",
      "metadata": {
        "id": "Zs9krVgG8VsC",
        "colab_type": "code",
        "colab": {
          "base_uri": "https://localhost:8080/",
          "height": 119
        },
        "outputId": "27d8140c-d685-4d65-cfc6-e48391e60027"
      },
      "source": [
        "sentiment = 'negative'\n",
        "\n",
        "train_data = get_training_data(sentiment)\n",
        "model_path = get_model_out_path(sentiment)\n",
        "\n",
        "train(train_data, model_path, n_iter=3, model=None)"
      ],
      "execution_count": null,
      "outputs": [
        {
          "output_type": "stream",
          "text": [
            "\r  0%|          | 0/3 [00:00<?, ?it/s]"
          ],
          "name": "stderr"
        },
        {
          "output_type": "stream",
          "text": [
            "Created blank 'en' model\n"
          ],
          "name": "stdout"
        },
        {
          "output_type": "stream",
          "text": [
            "\r 33%|███▎      | 1/3 [00:47<01:35, 47.65s/it]"
          ],
          "name": "stderr"
        },
        {
          "output_type": "stream",
          "text": [
            "Losses {'ner': 31150.466795625864}\n"
          ],
          "name": "stdout"
        },
        {
          "output_type": "stream",
          "text": [
            "\r 67%|██████▋   | 2/3 [01:33<00:47, 47.26s/it]"
          ],
          "name": "stderr"
        },
        {
          "output_type": "stream",
          "text": [
            "Losses {'ner': 28415.23619190307}\n"
          ],
          "name": "stdout"
        },
        {
          "output_type": "stream",
          "text": [
            "100%|██████████| 3/3 [02:20<00:00, 46.71s/it]"
          ],
          "name": "stderr"
        },
        {
          "output_type": "stream",
          "text": [
            "Losses {'ner': 26911.06724020458}\n",
            "Saved model to ../Output/models/model_neg\n"
          ],
          "name": "stdout"
        },
        {
          "output_type": "stream",
          "text": [
            "\n"
          ],
          "name": "stderr"
        }
      ]
    },
    {
      "cell_type": "markdown",
      "metadata": {
        "id": "KffUXGymaS3-",
        "colab_type": "text"
      },
      "source": [
        "The output above shows the three iterations, the model is good because the gradient of the loss function/error reduces per iteration"
      ]
    },
    {
      "cell_type": "markdown",
      "metadata": {
        "id": "kDbMD1MXfG4t",
        "colab_type": "text"
      },
      "source": [
        "##Predicting with the trained model\n",
        "Now using the models, let's predict the selected text of the test data using the sentiment provided"
      ]
    },
    {
      "cell_type": "code",
      "metadata": {
        "id": "oLPf_cRc8Jx3",
        "colab_type": "code",
        "colab": {}
      },
      "source": [
        "def predict_entities(text, model):\n",
        "    doc = model(text)\n",
        "    ent_array = []\n",
        "    for ent in doc.ents:\n",
        "        start = text.find(ent.text)\n",
        "        end = start + len(ent.text)\n",
        "        new_int = [start, end, ent.label_]\n",
        "        if new_int not in ent_array:\n",
        "            ent_array.append([start, end, ent.label_])\n",
        "    selected_text = text[ent_array[0][0]: ent_array[0][1]] if len(ent_array) > 0 else text\n",
        "    return selected_text"
      ],
      "execution_count": null,
      "outputs": []
    },
    {
      "cell_type": "code",
      "metadata": {
        "id": "cGlFgTLY8jhA",
        "colab_type": "code",
        "colab": {
          "base_uri": "https://localhost:8080/",
          "height": 34
        },
        "outputId": "e88e0dbf-d10e-4ae7-8576-16dc1393722b"
      },
      "source": [
        "selected_texts = []\n",
        "MODELS_BASE_PATH = '../Output/models/'\n",
        "\n",
        "if MODELS_BASE_PATH is not None:\n",
        "    print(\"Loading Models  from \", MODELS_BASE_PATH)\n",
        "    model_pos = spacy.load(MODELS_BASE_PATH + 'model_pos')\n",
        "    model_neg = spacy.load(MODELS_BASE_PATH + 'model_neg')\n",
        "        \n",
        "    for index, row in df_test.iterrows():\n",
        "        text = row.text\n",
        "        output_str = \"\"\n",
        "        if row.sentiment == 'neutral' or len(text.split()) <= 2:\n",
        "            selected_texts.append(text)\n",
        "        elif row.sentiment == 'positive':\n",
        "            selected_texts.append(predict_entities(text, model_pos))\n",
        "        else:\n",
        "            selected_texts.append(predict_entities(text, model_neg))\n",
        "        \n",
        "df_test['selected_text'] = selected_texts   #A new column called selected text takes the selected texts"
      ],
      "execution_count": null,
      "outputs": [
        {
          "output_type": "stream",
          "text": [
            "Loading Models  from  ../Output/models/\n"
          ],
          "name": "stdout"
        }
      ]
    },
    {
      "cell_type": "code",
      "metadata": {
        "id": "G3RJWqJ38tL3",
        "colab_type": "code",
        "colab": {
          "base_uri": "https://localhost:8080/",
          "height": 359
        },
        "outputId": "48f1464e-96a7-4eed-9a76-83729c81af54"
      },
      "source": [
        "#The submission data now has the selected text column that was predicted in the test data\n",
        "df_submission['selected_text'] = df_test['selected_text']\n",
        "df_submission.to_csv(\"submission.csv\", index=False)\n",
        "display(df_submission.head(10))"
      ],
      "execution_count": null,
      "outputs": [
        {
          "output_type": "display_data",
          "data": {
            "text/html": [
              "<div>\n",
              "<style scoped>\n",
              "    .dataframe tbody tr th:only-of-type {\n",
              "        vertical-align: middle;\n",
              "    }\n",
              "\n",
              "    .dataframe tbody tr th {\n",
              "        vertical-align: top;\n",
              "    }\n",
              "\n",
              "    .dataframe thead th {\n",
              "        text-align: right;\n",
              "    }\n",
              "</style>\n",
              "<table border=\"1\" class=\"dataframe\">\n",
              "  <thead>\n",
              "    <tr style=\"text-align: right;\">\n",
              "      <th></th>\n",
              "      <th>textID</th>\n",
              "      <th>selected_text</th>\n",
              "    </tr>\n",
              "  </thead>\n",
              "  <tbody>\n",
              "    <tr>\n",
              "      <th>0</th>\n",
              "      <td>f87dea47db</td>\n",
              "      <td>Last session of the day  http://twitpic.com/67ezh</td>\n",
              "    </tr>\n",
              "    <tr>\n",
              "      <th>1</th>\n",
              "      <td>96d74cb729</td>\n",
              "      <td>exciting</td>\n",
              "    </tr>\n",
              "    <tr>\n",
              "      <th>2</th>\n",
              "      <td>eee518ae67</td>\n",
              "      <td>Recession</td>\n",
              "    </tr>\n",
              "    <tr>\n",
              "      <th>3</th>\n",
              "      <td>01082688c6</td>\n",
              "      <td>happy bday!</td>\n",
              "    </tr>\n",
              "    <tr>\n",
              "      <th>4</th>\n",
              "      <td>33987a8ee5</td>\n",
              "      <td>http://twitpic.com/4w75p - I like it!!</td>\n",
              "    </tr>\n",
              "    <tr>\n",
              "      <th>5</th>\n",
              "      <td>726e501993</td>\n",
              "      <td>that`s great!! weee!! visitors!</td>\n",
              "    </tr>\n",
              "    <tr>\n",
              "      <th>6</th>\n",
              "      <td>261932614e</td>\n",
              "      <td>HATES</td>\n",
              "    </tr>\n",
              "    <tr>\n",
              "      <th>7</th>\n",
              "      <td>afa11da83f</td>\n",
              "      <td>completely</td>\n",
              "    </tr>\n",
              "    <tr>\n",
              "      <th>8</th>\n",
              "      <td>e64208b4ef</td>\n",
              "      <td>and within a short time of the last clue all ...</td>\n",
              "    </tr>\n",
              "    <tr>\n",
              "      <th>9</th>\n",
              "      <td>37bcad24ca</td>\n",
              "      <td>What did you get?  My day is alright.. haven`...</td>\n",
              "    </tr>\n",
              "  </tbody>\n",
              "</table>\n",
              "</div>"
            ],
            "text/plain": [
              "       textID                                      selected_text\n",
              "0  f87dea47db  Last session of the day  http://twitpic.com/67ezh\n",
              "1  96d74cb729                                           exciting\n",
              "2  eee518ae67                                          Recession\n",
              "3  01082688c6                                        happy bday!\n",
              "4  33987a8ee5             http://twitpic.com/4w75p - I like it!!\n",
              "5  726e501993                    that`s great!! weee!! visitors!\n",
              "6  261932614e                                              HATES\n",
              "7  afa11da83f                                         completely\n",
              "8  e64208b4ef   and within a short time of the last clue all ...\n",
              "9  37bcad24ca   What did you get?  My day is alright.. haven`..."
            ]
          },
          "metadata": {
            "tags": []
          }
        }
      ]
    },
    {
      "cell_type": "code",
      "metadata": {
        "id": "wkW3Ckl4PTc9",
        "colab_type": "code",
        "colab": {
          "base_uri": "https://localhost:8080/",
          "height": 359
        },
        "outputId": "0fdc59cb-f8c9-4a51-d67a-f6101c608027"
      },
      "source": [
        "df_submission['sentiment']=df_test['sentiment']\n",
        "display(df_submission.head(10))"
      ],
      "execution_count": null,
      "outputs": [
        {
          "output_type": "display_data",
          "data": {
            "text/html": [
              "<div>\n",
              "<style scoped>\n",
              "    .dataframe tbody tr th:only-of-type {\n",
              "        vertical-align: middle;\n",
              "    }\n",
              "\n",
              "    .dataframe tbody tr th {\n",
              "        vertical-align: top;\n",
              "    }\n",
              "\n",
              "    .dataframe thead th {\n",
              "        text-align: right;\n",
              "    }\n",
              "</style>\n",
              "<table border=\"1\" class=\"dataframe\">\n",
              "  <thead>\n",
              "    <tr style=\"text-align: right;\">\n",
              "      <th></th>\n",
              "      <th>textID</th>\n",
              "      <th>selected_text</th>\n",
              "      <th>sentiment</th>\n",
              "    </tr>\n",
              "  </thead>\n",
              "  <tbody>\n",
              "    <tr>\n",
              "      <th>0</th>\n",
              "      <td>f87dea47db</td>\n",
              "      <td>Last session of the day  http://twitpic.com/67ezh</td>\n",
              "      <td>neutral</td>\n",
              "    </tr>\n",
              "    <tr>\n",
              "      <th>1</th>\n",
              "      <td>96d74cb729</td>\n",
              "      <td>exciting</td>\n",
              "      <td>positive</td>\n",
              "    </tr>\n",
              "    <tr>\n",
              "      <th>2</th>\n",
              "      <td>eee518ae67</td>\n",
              "      <td>Recession</td>\n",
              "      <td>negative</td>\n",
              "    </tr>\n",
              "    <tr>\n",
              "      <th>3</th>\n",
              "      <td>01082688c6</td>\n",
              "      <td>happy bday!</td>\n",
              "      <td>positive</td>\n",
              "    </tr>\n",
              "    <tr>\n",
              "      <th>4</th>\n",
              "      <td>33987a8ee5</td>\n",
              "      <td>http://twitpic.com/4w75p - I like it!!</td>\n",
              "      <td>positive</td>\n",
              "    </tr>\n",
              "    <tr>\n",
              "      <th>5</th>\n",
              "      <td>726e501993</td>\n",
              "      <td>that`s great!! weee!! visitors!</td>\n",
              "      <td>positive</td>\n",
              "    </tr>\n",
              "    <tr>\n",
              "      <th>6</th>\n",
              "      <td>261932614e</td>\n",
              "      <td>HATES</td>\n",
              "      <td>negative</td>\n",
              "    </tr>\n",
              "    <tr>\n",
              "      <th>7</th>\n",
              "      <td>afa11da83f</td>\n",
              "      <td>completely</td>\n",
              "      <td>negative</td>\n",
              "    </tr>\n",
              "    <tr>\n",
              "      <th>8</th>\n",
              "      <td>e64208b4ef</td>\n",
              "      <td>and within a short time of the last clue all ...</td>\n",
              "      <td>neutral</td>\n",
              "    </tr>\n",
              "    <tr>\n",
              "      <th>9</th>\n",
              "      <td>37bcad24ca</td>\n",
              "      <td>What did you get?  My day is alright.. haven`...</td>\n",
              "      <td>neutral</td>\n",
              "    </tr>\n",
              "  </tbody>\n",
              "</table>\n",
              "</div>"
            ],
            "text/plain": [
              "       textID                                      selected_text sentiment\n",
              "0  f87dea47db  Last session of the day  http://twitpic.com/67ezh   neutral\n",
              "1  96d74cb729                                           exciting  positive\n",
              "2  eee518ae67                                          Recession  negative\n",
              "3  01082688c6                                        happy bday!  positive\n",
              "4  33987a8ee5             http://twitpic.com/4w75p - I like it!!  positive\n",
              "5  726e501993                    that`s great!! weee!! visitors!  positive\n",
              "6  261932614e                                              HATES  negative\n",
              "7  afa11da83f                                         completely  negative\n",
              "8  e64208b4ef   and within a short time of the last clue all ...   neutral\n",
              "9  37bcad24ca   What did you get?  My day is alright.. haven`...   neutral"
            ]
          },
          "metadata": {
            "tags": []
          }
        }
      ]
    }
  ]
}